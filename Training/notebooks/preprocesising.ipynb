{
 "cells": [
  {
   "cell_type": "code",
   "execution_count": 1,
   "metadata": {
    "collapsed": false
   },
   "outputs": [
    {
     "data": {
      "application/javascript": [
       "require(['codemirror/mode/clike/clike'], function(Clike) { console.log('ROOTaaS - C++ CodeMirror module loaded'); });"
      ]
     },
     "metadata": {},
     "output_type": "display_data"
    },
    {
     "data": {
      "application/javascript": [
       "IPython.CodeCell.config_defaults.highlight_modes['magic_text/x-c++src'] = {'reg':[/^%%cpp/]};"
      ]
     },
     "metadata": {},
     "output_type": "display_data"
    },
    {
     "name": "stdout",
     "output_type": "stream",
     "text": [
      "Welcome to ROOTaaS 6.06/05\n"
     ]
    },
    {
     "data": {
      "text/plain": [
       "<module 'btagging' from '/mnt/t3nfs01/data01/shome/musella/Analysis/jupyter/btagging/python/btagging.pyc'>"
      ]
     },
     "execution_count": 1,
     "metadata": {},
     "output_type": "execute_result"
    }
   ],
   "source": [
    "import os\n",
    "import btagging as btag\n",
    "reload(btag)"
   ]
  },
  {
   "cell_type": "code",
   "execution_count": 2,
   "metadata": {
    "collapsed": false
   },
   "outputs": [
    {
     "name": "stdout",
     "output_type": "stream",
     "text": [
      "env: data=/mnt/t3nfs01/data01/shome/musella/store/t2/btag/rFlavPhaseI/v1\n"
     ]
    }
   ],
   "source": [
    "ntuples = 'rFlavPhaseI/v1'\n",
    "\n",
    "%env data=$btag.IO.ldata/$ntuples\n",
    "folders = ! ls $data | sort -t_ -k 3 -n"
   ]
  },
  {
   "cell_type": "code",
   "execution_count": 3,
   "metadata": {
    "collapsed": false
   },
   "outputs": [
    {
     "data": {
      "text/plain": [
       "['TT_TuneCUETP8M2T4_13TeV-powheg-pythia8',\n",
       " 'QCD_Pt_15to30_TuneCUETP8M1_13TeV_pythia8',\n",
       " 'QCD_Pt_30to50_TuneCUETP8M1_13TeV_pythia8',\n",
       " 'QCD_Pt_50to80_TuneCUETP8M1_13TeV_pythia8',\n",
       " 'QCD_Pt_80to120_TuneCUETP8M1_13TeV_pythia8',\n",
       " 'QCD_Pt_120to170_TuneCUETP8M1_13TeV_pythia8',\n",
       " 'QCD_Pt_170to300_TuneCUETP8M1_13TeV_pythia8',\n",
       " 'QCD_Pt_300to470_TuneCUETP8M1_13TeV_pythia8',\n",
       " 'QCD_Pt_470to600_TuneCUETP8M1_13TeV_pythia8']"
      ]
     },
     "execution_count": 3,
     "metadata": {},
     "output_type": "execute_result"
    }
   ],
   "source": [
    "folders"
   ]
  },
  {
   "cell_type": "code",
   "execution_count": 4,
   "metadata": {
    "collapsed": false,
    "scrolled": true
   },
   "outputs": [
    {
     "name": "stdout",
     "output_type": "stream",
     "text": [
      "reading QCD_Pt_15to30_TuneCUETP8M1_13TeV_pythia8\n",
      "(505731.0, 1824000000.0)\n",
      "defining process QCD_Pt_15to30_TuneCUETP8M1_13TeV_pythia8\n",
      "adjusting QCD_Pt_15to30_TuneCUETP8M1_13TeV_pythia8\n",
      "storing QCD_Pt_15to30_TuneCUETP8M1_13TeV_pythia8\n",
      "[Parallel(n_jobs=8)]: Done   1 tasks      | elapsed:  4.5min\n",
      "[Parallel(n_jobs=8)]: Done   1 out of   1 | elapsed:  4.5min finished\n"
     ]
    }
   ],
   "source": [
    "from joblib import Parallel, delayed\n",
    "\n",
    "# columns = [\"Ev_event\",\"Ev_run\",\"Ev_lumi\",\"Jet_pt\",\"Jet_index\",\"Jet_eta\",\n",
    "#                        \"Jet_genPt\",\"Jet_genFlavourCleaned\",\"Jet_genPartonFlavour\"]\n",
    "\n",
    "# where=\"Jet_index>=0 && Cand_index == -1\"\n",
    "\n",
    "folders = ['QCD_Pt_15to30_TuneCUETP8M1_13TeV_pythia8']\n",
    "\n",
    "columns = None\n",
    "where = '1'\n",
    "\n",
    "def make_dataset(iproc,folder,store=True,**kwargs):\n",
    "    print('reading %s' % folder)\n",
    "    weight,df = btag.IO.load_input_ntuples(os.path.join(ntuples,folder),\n",
    "                                           columns=columns,where=where,**kwargs)\n",
    "    print('defining process %s' % folder)\n",
    "    btag.preprocessing.define_process_weight(df,iproc,weight)\n",
    "    print('adjusting %s' % folder)\n",
    "    btag.preprocessing.adjust_and_compress(df,doFloat16=False)\n",
    "    \n",
    "    if store:\n",
    "        print('storing %s' % folder)\n",
    "        fname = '/scratch/musella/%s.root' % folder\n",
    "        df.to_root(fname,folder)\n",
    "        fname = '/scratch/musella/%s.hd5' % folder\n",
    "        df.to_hdf(fname,folder,compression=9,complib='bzip2',mode='w')\n",
    "        return fname\n",
    "    return df\n",
    "\n",
    "qcd_folders = filter(lambda x: x.startswith('QCD'), folders)\n",
    "qcd = Parallel(n_jobs=8,verbose=60)(delayed(make_dataset)(iproc,folder,nevents=100000) for iproc, folder in enumerate(qcd_folders))\n",
    "\n",
    "# top_folders = filter(lambda x: x.startswith('TT'), folders)\n",
    "# top = Parallel(n_jobs=5,verbose=60)(delayed(make_dataset)(iproc,folder,nevents=100000) for iproc, folder in enumerate(top_folders))"
   ]
  },
  {
   "cell_type": "code",
   "execution_count": null,
   "metadata": {
    "collapsed": false
   },
   "outputs": [],
   "source": [
    "qcd_df = qcd.pop(0)\n",
    "while len(qcd) > 0:\n",
    "    qcd_df = qcd_df.append(qcd.pop(0))"
   ]
  },
  {
   "cell_type": "code",
   "execution_count": null,
   "metadata": {
    "collapsed": false
   },
   "outputs": [],
   "source": [
    "top_df = top.pop(0)"
   ]
  },
  {
   "cell_type": "code",
   "execution_count": null,
   "metadata": {
    "collapsed": false
   },
   "outputs": [],
   "source": [
    "# qcd_df.to_hdf('/scratch/musella/qcd.hd5','qcd',compression=9,complib='bzip2',mode='w')\n",
    "# top_df.to_hdf('/scratch/musella/top.hd5','top',compression=9,complib='bzip2',mode='w')"
   ]
  },
  {
   "cell_type": "code",
   "execution_count": null,
   "metadata": {
    "collapsed": false
   },
   "outputs": [],
   "source": [
    "! ls -lh /scratch/musella/qcd.root /scratch/musella/top.root "
   ]
  },
  {
   "cell_type": "code",
   "execution_count": null,
   "metadata": {
    "collapsed": false
   },
   "outputs": [],
   "source": [
    "import numpy as np \n",
    "\n"
   ]
  },
  {
   "cell_type": "code",
   "execution_count": null,
   "metadata": {
    "collapsed": false
   },
   "outputs": [],
   "source": [
    "adjust_and_compress(qcd_df).to_hdf('/scratch/musella/qcd_all_br_flt16.hd5','qcd',compression=9,complib='bzip2',mode='w')"
   ]
  },
  {
   "cell_type": "code",
   "execution_count": null,
   "metadata": {
    "collapsed": true
   },
   "outputs": [],
   "source": [
    "# %matplotlib inline\n",
    "# from matplotlib.colors import LogNorm\n",
    "# plt.figure(figsize=(10,10))\n",
    "# counts, xedges, yedges, values = plt.hist2d(x=qcd_df.Jet_pt,y=qcd_df.Jet_genFlavourCleaned,weights=qcd_df.weight,\n",
    "#            range=[[20,100],[0.5,21.5]],bins=[80,21],norm=LogNorm(),cmap='PuBu');\n",
    "# plt.show()"
   ]
  },
  {
   "cell_type": "code",
   "execution_count": null,
   "metadata": {
    "collapsed": false
   },
   "outputs": [],
   "source": [
    "# import numpy as np\n",
    "\n",
    "# gby = qcd_df.groupby('Jet_genFlavourCleaned')\n",
    "# groups = gby.groups"
   ]
  },
  {
   "cell_type": "code",
   "execution_count": null,
   "metadata": {
    "collapsed": true
   },
   "outputs": [],
   "source": [
    "# gby.hist(column='Jet_pt',weights='weight',figsize=(10,10),alpha=0.1,bins=np.linspace(20,100,80))#,layout=(3,3));"
   ]
  },
  {
   "cell_type": "code",
   "execution_count": null,
   "metadata": {
    "collapsed": true
   },
   "outputs": [],
   "source": [
    "# gby.hist(column='Jet_genPartonFlavour',weights='weight',figsize=(10,10),alpha=0.1)#,layout=(3,3));"
   ]
  },
  {
   "cell_type": "code",
   "execution_count": null,
   "metadata": {
    "collapsed": true
   },
   "outputs": [],
   "source": [
    "# ddf = qcd_df[['Jet_pt','Jet_eta','weight']]\n",
    "\n",
    "# for gp,idx in groups.iteritems():\n",
    "#     fig = plt.figure(figsize=(7,7))\n",
    "#     df = ddf.loc[idx]\n",
    "#     plt.hist2d(x=df.Jet_pt,y=np.abs(df.Jet_eta),weights=df.weight,\n",
    "#            range=[[20,100],[0,2.5]],bins=[80,25],norm=LogNorm(),cmap='PuBu')\n",
    "#     plt.show()\n"
   ]
  },
  {
   "cell_type": "code",
   "execution_count": null,
   "metadata": {
    "collapsed": false
   },
   "outputs": [],
   "source": [
    "# gby2 = qcd_df.groupby( ['Jet_label','proc'] )"
   ]
  },
  {
   "cell_type": "code",
   "execution_count": null,
   "metadata": {
    "collapsed": true
   },
   "outputs": [],
   "source": [
    "# gby2.hist(column='Jet_pt',weights='weight',figsize=(10,10),alpha=0.1,bins=np.linspace(20,100,80))#,layout=(3,3));"
   ]
  },
  {
   "cell_type": "code",
   "execution_count": null,
   "metadata": {
    "collapsed": true
   },
   "outputs": [],
   "source": [
    "from sklearn import ensemble\n"
   ]
  },
  {
   "cell_type": "code",
   "execution_count": null,
   "metadata": {
    "collapsed": false
   },
   "outputs": [],
   "source": [
    "clf = ensemble.GradientBoostingClassifier(max_depth=5,learning_rate=0.2,n_estimators=100,min_weight_fraction_leaf=1e-4)"
   ]
  },
  {
   "cell_type": "code",
   "execution_count": null,
   "metadata": {
    "collapsed": false
   },
   "outputs": [],
   "source": [
    "X = qcd_df[['Jet_pt','Jet_eta','Jet_label']]\n",
    "y = qcd_df.proc.ravel()\n",
    "w = qcd_df.weight.ravel()"
   ]
  },
  {
   "cell_type": "code",
   "execution_count": null,
   "metadata": {
    "collapsed": false
   },
   "outputs": [],
   "source": [
    "from sklearn.preprocessing import OneHotEncoder\n",
    "\n",
    "encoder = OneHotEncoder(categorical_features=[2])"
   ]
  },
  {
   "cell_type": "code",
   "execution_count": null,
   "metadata": {
    "collapsed": false
   },
   "outputs": [],
   "source": [
    "from sklearn.pipeline import make_pipeline\n",
    "\n",
    "pipeline = make_pipeline(encoder,clf)"
   ]
  },
  {
   "cell_type": "code",
   "execution_count": null,
   "metadata": {
    "collapsed": false
   },
   "outputs": [],
   "source": [
    "pipeline.fit(X,y,gradientboostingclassifier__sample_weight=w)"
   ]
  },
  {
   "cell_type": "code",
   "execution_count": null,
   "metadata": {
    "collapsed": true
   },
   "outputs": [],
   "source": [
    "from gzip import open as gopen\n",
    "\n",
    "import cPickle as pickle\n",
    "\n",
    "with gopen('/scratch/musella/sampler.pkl.gz','w+') as fout:\n",
    "    pickle.dump(pipeline,fout)\n",
    "    fout.close()\n"
   ]
  }
 ],
 "metadata": {
  "anaconda-cloud": {},
  "kernelspec": {
   "display_name": "Python [default]",
   "language": "python",
   "name": "python2"
  },
  "language_info": {
   "codemirror_mode": {
    "name": "ipython",
    "version": 2
   },
   "file_extension": ".py",
   "mimetype": "text/x-python",
   "name": "python",
   "nbconvert_exporter": "python",
   "pygments_lexer": "ipython2",
   "version": "2.7.12"
  }
 },
 "nbformat": 4,
 "nbformat_minor": 1
}
